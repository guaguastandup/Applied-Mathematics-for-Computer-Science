{
 "cells": [
  {
   "cell_type": "code",
   "execution_count": null,
   "metadata": {},
   "outputs": [],
   "source": []
  },
  {
   "cell_type": "code",
   "execution_count": 2,
   "metadata": {},
   "outputs": [],
   "source": [
    "import numpy as np\n",
    "import pandas as pd\n",
    "import math\n",
    "import csv "
   ]
  },
  {
   "cell_type": "markdown",
   "metadata": {},
   "source": [
    "## 读取数据"
   ]
  },
  {
   "cell_type": "code",
   "execution_count": 3,
   "metadata": {},
   "outputs": [],
   "source": [
    "# get train data from dataset\n",
    "dataset_train = pd.read_csv('./dataset/kddcup99_test.csv', header = None, on_bad_lines='skip', nrows = None)\n",
    "# dataset_train_unlabeled = dataset_train\n",
    "# dataset_train_unlabeled = dataset_train_unlabeled.drop(columns = 41)"
   ]
  },
  {
   "cell_type": "code",
   "execution_count": 4,
   "metadata": {},
   "outputs": [],
   "source": [
    "# get test data from dataset\n",
    "dataset_test = pd.read_csv('./dataset/kddcup.data_10_percent', header = None,on_bad_lines='skip', nrows = None)"
   ]
  },
  {
   "cell_type": "code",
   "execution_count": 17,
   "metadata": {},
   "outputs": [],
   "source": [
    "# get test & train array\n",
    "array_train = np.array(dataset_train)\n",
    "array_test = np.array(dataset_test)"
   ]
  },
  {
   "cell_type": "markdown",
   "metadata": {},
   "source": [
    "## 得到字典"
   ]
  },
  {
   "cell_type": "code",
   "execution_count": 23,
   "metadata": {},
   "outputs": [
    {
     "name": "stdout",
     "output_type": "stream",
     "text": [
      "{'tcp': 1, 'http': 1, 'SF': 1, 'smtp': 2, 'udp': 2, 'domain_u': 3, 'auth': 4, 'finger': 5, 'telnet': 6, 'S2': 2, 'ftp': 7, 'icmp': 3, 'eco_i': 8, 'ntp_u': 9, 'ecr_i': 10, 'other': 11, 'REJ': 3, 'S1': 4, 'RSTO': 5, 'S0': 6, 'private': 12, 'pop_3': 13, 'ftp_data': 14, 'RSTR': 7, 'time': 15, 'RSTOS0': 8, 'gopher': 16, 'remote_job': 17, 'ssh': 18, 'mtp': 19, 'ctf': 20, 'whois': 21, 'rje': 22, 'name': 23, 'domain': 24, 'OTH': 9, 'S3': 10, 'urp_i': 25, 'pm_dump': 26, 'supdup': 27, 'daytime': 28, 'systat': 29, 'echo': 30, 'IRC': 31, 'SH': 11, 'Z39_50': 32, 'ldap': 33, 'pop_2': 34, 'netstat': 35, 'login': 36, 'shell': 37, 'nnsp': 38, 'http_443': 39, 'exec': 40, 'printer': 41, 'efs': 42, 'courier': 43, 'kshell': 44, 'klogin': 45, 'discard': 46, 'link': 47, 'iso_tsap': 48, 'hostnames': 49, 'csnet_ns': 50, 'sunrpc': 51, 'uucp_path': 52, 'nntp': 53, 'netbios_ns': 54, 'netbios_ssn': 55, 'imap4': 56, 'sql_net': 57, 'vmnet': 58, 'bgp': 59, 'netbios_dgm': 60, 'uucp': 61, 'urh_i': 62, 'X11': 63, 'http_2784': 64, 'aol': 65, 'red_i': 66, 'harvest': 67, 'tim_i': 68, 'tftp_u': 69}\n"
     ]
    }
   ],
   "source": [
    "# get dict data\n",
    "d1, d2, d3 = {}, {}, {}\n",
    "cnt = [0, 0, 0]\n",
    "\n",
    "for row in array_train:\n",
    "    for i in range(3):\n",
    "        val = row[i]\n",
    "    if not d.get(val):\n",
    "        d[val] = cnt[i] + 1\n",
    "        \n",
    "for row in array_test:\n",
    "    for i in range(3):\n",
    "        val = row[i]\n",
    "    if not d.get(val):\n",
    "        d[val] = cnt[i] + 1\n",
    "\n",
    "print(d)"
   ]
  },
  {
   "cell_type": "markdown",
   "metadata": {},
   "source": [
    "## 标签修改"
   ]
  },
  {
   "cell_type": "code",
   "execution_count": 24,
   "metadata": {},
   "outputs": [
    {
     "name": "stdout",
     "output_type": "stream",
     "text": [
      "978649 42\n"
     ]
    }
   ],
   "source": [
    "# train label replace\n",
    "n, m = array_train.shape\n",
    "print(n, m)\n",
    "\n",
    "for i in range(n):\n",
    "    array_train[i][1] = d[array_train[i][1]]\n",
    "    array_train[i][2] = d[array_train[i][2]]\n",
    "    array_train[i][3] = d[array_train[i][3]]"
   ]
  },
  {
   "cell_type": "code",
   "execution_count": 25,
   "metadata": {},
   "outputs": [
    {
     "name": "stdout",
     "output_type": "stream",
     "text": [
      "494021 42\n"
     ]
    }
   ],
   "source": [
    "# test label replace\n",
    "n, m = array_test.shape\n",
    "print(n, m)\n",
    "\n",
    "for i in range(n):\n",
    "    array_test[i][1] = d[array_test[i][1]]\n",
    "    array_test[i][2] = d[array_test[i][2]]\n",
    "    array_test[i][3] = d[array_test[i][3]]"
   ]
  },
  {
   "cell_type": "code",
   "execution_count": 26,
   "metadata": {},
   "outputs": [
    {
     "name": "stdout",
     "output_type": "stream",
     "text": [
      "[0 1 1 1 181 5450 0 0 0 0 0 1 0 0 0 0 0 0 0 0 0 0 8 8 0.0 0.0 0.0 0.0 1.0\n",
      " 0.0 0.0 9 9 1.0 0.0 0.11 0.0 0.0 0.0 0.0 0.0 'normal.']\n",
      "[0 1 1 1 162 4528 0 0 0 0 0 1 0 0 0 0 0 0 0 0 0 0 2 2 0.0 0.0 0.0 0.0 1.0\n",
      " 0.0 0.0 1 1 1.0 0.0 1.0 0.0 0.0 0.0 0.0 0.0 'normal.']\n"
     ]
    }
   ],
   "source": [
    "print(array_test[0])\n",
    "print(array_train[0])"
   ]
  },
  {
   "cell_type": "code",
   "execution_count": 27,
   "metadata": {},
   "outputs": [],
   "source": [
    "np.save('data/test.npy', array_test)\n",
    "np.save('data/train.npy', array_train)"
   ]
  },
  {
   "cell_type": "code",
   "execution_count": 32,
   "metadata": {},
   "outputs": [],
   "source": [
    "y_test = array_test[:,[-1]]\n",
    "y_train = array_train[:,[-1]]\n",
    "np.save('data/y_test.npy', y_test)\n",
    "np.save('data/y_train.npy', y_train)"
   ]
  },
  {
   "cell_type": "markdown",
   "metadata": {},
   "source": [
    "## 保存字典"
   ]
  },
  {
   "cell_type": "code",
   "execution_count": 28,
   "metadata": {},
   "outputs": [],
   "source": [
    "def get_dict():\n",
    "    if os.path.exists('dic.npy'):\n",
    "        dic = np.load('dic.npy',allow_pickle=True).item()\n",
    "    else:\n",
    "        dic = dict()\n",
    "    return dic"
   ]
  },
  {
   "cell_type": "code",
   "execution_count": 30,
   "metadata": {},
   "outputs": [],
   "source": [
    "np.save('data/dic.npy', d)"
   ]
  }
 ],
 "metadata": {
  "kernelspec": {
   "display_name": "Python 3 (ipykernel)",
   "language": "python",
   "name": "python3"
  },
  "orig_nbformat": 4
 },
 "nbformat": 4,
 "nbformat_minor": 2
}
