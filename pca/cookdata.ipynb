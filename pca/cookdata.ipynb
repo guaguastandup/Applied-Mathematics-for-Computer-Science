{
 "cells": [
  {
   "cell_type": "code",
   "execution_count": null,
   "metadata": {},
   "outputs": [],
   "source": []
  },
  {
   "cell_type": "code",
   "execution_count": 2,
   "metadata": {},
   "outputs": [],
   "source": [
    "import numpy as np\n",
    "import pandas as pd\n",
    "import math\n",
    "import csv "
   ]
  },
  {
   "cell_type": "markdown",
   "metadata": {},
   "source": [
    "## 读取数据"
   ]
  },
  {
   "cell_type": "code",
   "execution_count": 3,
   "metadata": {},
   "outputs": [],
   "source": [
    "# get train data from dataset\n",
    "# dataset_train = pd.read_csv('./dataset/kddcup99_test.csv', header = None, on_bad_lines='skip', nrows = None)\n",
    "dataset_train = pd.read_csv('dataset/kddcup99_train.csv', header = None, on_bad_lines='skip', nrows = None)\n",
    "\n",
    "\n",
    "# dataset_train_unlabeled = dataset_train\n",
    "# dataset_train_unlabeled = dataset_train_unlabeled.drop(columns = 41)"
   ]
  },
  {
   "cell_type": "code",
   "execution_count": 4,
   "metadata": {},
   "outputs": [],
   "source": [
    "# get test data from dataset\n",
    "dataset_test = pd.read_csv('dataset/kddcup99_test.csv', header = None,on_bad_lines='skip', nrows = None)"
   ]
  },
  {
   "cell_type": "code",
   "execution_count": 5,
   "metadata": {},
   "outputs": [],
   "source": [
    "# get test & train array\n",
    "array_train = np.array(dataset_train)\n",
    "array_test = np.array(dataset_test)"
   ]
  },
  {
   "cell_type": "code",
   "execution_count": 10,
   "metadata": {},
   "outputs": [
    {
     "name": "stdout",
     "output_type": "stream",
     "text": [
      "[0 'tcp' 'http' 'SF' 162 4528 0 0 0 0 0 1 0 0 0 0 0 0 0 0 0 0 2 2 0.0 0.0\n",
      " 0.0 0.0 1.0 0.0 0.0 1 1 1.0 0.0 1.0 0.0 0.0 0.0 0.0 0.0 'normal.']\n",
      "[0 'tcp' 'http' 'SF' 215 45076 0 0 0 0 0 1 0 0 0 0 0 0 0 0 0 0 1 1 0.0 0.0\n",
      " 0.0 0.0 1.0 0.0 0.0 0 0 0.0 0.0 0.0 0.0 0.0 0.0 0.0 0.0 'normal.']\n"
     ]
    }
   ],
   "source": [
    "print(array_test[0])\n",
    "print(array_train[0])"
   ]
  },
  {
   "cell_type": "markdown",
   "metadata": {},
   "source": [
    "## 得到字典"
   ]
  },
  {
   "cell_type": "code",
   "execution_count": 11,
   "metadata": {},
   "outputs": [
    {
     "name": "stdout",
     "output_type": "stream",
     "text": [
      "{'tcp': 1, 'http': 1, 'SF': 1, 'S2': 2, 'S1': 3, 'smtp': 2, 'udp': 2, 'domain_u': 3, 'auth': 4, 'finger': 5, 'telnet': 6, 'icmp': 3, 'eco_i': 7, 'ftp': 8, 'ntp_u': 9, 'ecr_i': 10, 'S3': 4, 'OTH': 5, 'other': 11, 'REJ': 6, 'urp_i': 12, 'S0': 7, 'RSTO': 8, 'private': 13, 'ftp_data': 14, 'pop_3': 15, 'RSTR': 9, 'netstat': 16, 'daytime': 17, 'ssh': 18, 'echo': 19, 'name': 20, 'whois': 21, 'RSTOS0': 10, 'domain': 22, 'mtp': 23, 'remote_job': 24, 'rje': 25, 'ctf': 26, 'supdup': 27, 'link': 28, 'systat': 29, 'discard': 30, 'time': 31, 'gopher': 32, 'X11': 33, 'shell': 34, 'login': 35, 'imap4': 36, 'nntp': 37, 'uucp': 38, 'IRC': 39, 'SH': 11, 'netbios_dgm': 40, 'sunrpc': 41, 'courier': 42, 'exec': 43, 'bgp': 44, 'csnet_ns': 45, 'http_443': 46, 'klogin': 47, 'printer': 48, 'netbios_ssn': 49, 'nnsp': 50, 'efs': 51, 'hostnames': 52, 'uucp_path': 53, 'sql_net': 54, 'vmnet': 55, 'iso_tsap': 56, 'netbios_ns': 57, 'kshell': 58, 'pop_2': 59, 'Z39_50': 60, 'ldap': 61, 'urh_i': 62, 'pm_dump': 63, 'harvest': 64, 'tftp_u': 65, 'http_8001': 66, 'tim_i': 67, 'red_i': 68, 'http_2784': 69, 'aol': 70}\n"
     ]
    }
   ],
   "source": [
    "# get dict data\n",
    "d = {}\n",
    "cnt = [0, 0, 0, 0]\n",
    "\n",
    "for row in array_train:\n",
    "    for i in range(1, 4):\n",
    "        val = row[i]\n",
    "        if not d.get(val):\n",
    "            d[val] = cnt[i] + 1\n",
    "            cnt[i] += 1\n",
    "for row in array_test:\n",
    "    for i in range(1, 4):\n",
    "        val = row[i]\n",
    "        if not d.get(val):\n",
    "            d[val] = cnt[i] + 1\n",
    "            cnt[i] += 1\n",
    "\n",
    "print(d)"
   ]
  },
  {
   "cell_type": "markdown",
   "metadata": {},
   "source": [
    "## 标签修改"
   ]
  },
  {
   "cell_type": "code",
   "execution_count": 12,
   "metadata": {},
   "outputs": [
    {
     "name": "stdout",
     "output_type": "stream",
     "text": [
      "3919781 42\n"
     ]
    }
   ],
   "source": [
    "# train label replace\n",
    "n, m = array_train.shape\n",
    "print(n, m)\n",
    "\n",
    "for i in range(n):\n",
    "    array_train[i][1] = d[array_train[i][1]]\n",
    "    array_train[i][2] = d[array_train[i][2]]\n",
    "    array_train[i][3] = d[array_train[i][3]]"
   ]
  },
  {
   "cell_type": "code",
   "execution_count": 13,
   "metadata": {},
   "outputs": [
    {
     "name": "stdout",
     "output_type": "stream",
     "text": [
      "978649 42\n"
     ]
    }
   ],
   "source": [
    "# test label replace\n",
    "n, m = array_test.shape\n",
    "print(n, m)\n",
    "\n",
    "for i in range(n):\n",
    "    array_test[i][1] = d[array_test[i][1]]\n",
    "    array_test[i][2] = d[array_test[i][2]]\n",
    "    array_test[i][3] = d[array_test[i][3]]"
   ]
  },
  {
   "cell_type": "code",
   "execution_count": 14,
   "metadata": {},
   "outputs": [
    {
     "name": "stdout",
     "output_type": "stream",
     "text": [
      "[0 1 1 1 162 4528 0 0 0 0 0 1 0 0 0 0 0 0 0 0 0 0 2 2 0.0 0.0 0.0 0.0 1.0\n",
      " 0.0 0.0 1 1 1.0 0.0 1.0 0.0 0.0 0.0 0.0 0.0 'normal.']\n",
      "[0 1 1 1 215 45076 0 0 0 0 0 1 0 0 0 0 0 0 0 0 0 0 1 1 0.0 0.0 0.0 0.0 1.0\n",
      " 0.0 0.0 0 0 0.0 0.0 0.0 0.0 0.0 0.0 0.0 0.0 'normal.']\n"
     ]
    }
   ],
   "source": [
    "print(array_test[0])\n",
    "print(array_train[0])"
   ]
  },
  {
   "cell_type": "code",
   "execution_count": 27,
   "metadata": {},
   "outputs": [],
   "source": [
    "np.save('data/test.npy', array_test)\n",
    "np.save('data/train.npy', array_train)"
   ]
  },
  {
   "cell_type": "code",
   "execution_count": 32,
   "metadata": {},
   "outputs": [],
   "source": [
    "y_test = array_test[:,[-1]]\n",
    "y_train = array_train[:,[-1]]\n",
    "np.save('data/y_test.npy', y_test)\n",
    "np.save('data/y_train.npy', y_train)"
   ]
  },
  {
   "cell_type": "markdown",
   "metadata": {},
   "source": [
    "## 保存字典"
   ]
  },
  {
   "cell_type": "code",
   "execution_count": 28,
   "metadata": {},
   "outputs": [],
   "source": [
    "def get_dict():\n",
    "    if os.path.exists('dic.npy'):\n",
    "        dic = np.load('dic.npy',allow_pickle=True).item()\n",
    "    else:\n",
    "        dic = dict()\n",
    "    return dic"
   ]
  },
  {
   "cell_type": "code",
   "execution_count": 30,
   "metadata": {},
   "outputs": [],
   "source": [
    "np.save('data/dic.npy', d)"
   ]
  }
 ],
 "metadata": {
  "kernelspec": {
   "display_name": "Python 3.9.12 ('base')",
   "language": "python",
   "name": "python3"
  },
  "language_info": {
   "codemirror_mode": {
    "name": "ipython",
    "version": 3
   },
   "file_extension": ".py",
   "mimetype": "text/x-python",
   "name": "python",
   "nbconvert_exporter": "python",
   "pygments_lexer": "ipython3",
   "version": "3.9.15"
  },
  "orig_nbformat": 4,
  "vscode": {
   "interpreter": {
    "hash": "556100dcee374a23f84c2de2403ec57cc1cab8c46090603702f50dbe18a73249"
   }
  }
 },
 "nbformat": 4,
 "nbformat_minor": 2
}
