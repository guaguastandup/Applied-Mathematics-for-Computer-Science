{
 "cells": [
  {
   "cell_type": "code",
   "execution_count": 60,
   "metadata": {},
   "outputs": [],
   "source": [
    "# start here\n",
    "import numpy as np\n",
    "import pandas as pd\n",
    "import math\n",
    "import csv "
   ]
  },
  {
   "cell_type": "code",
   "execution_count": 8,
   "metadata": {},
   "outputs": [],
   "source": [
    "def get_p(x, mean, var):\n",
    "    return np.exp(-(x - mean) ** 2 / (2 * var ** 2)) / (math.sqrt(2 * math.pi) * var) "
   ]
  },
  {
   "cell_type": "code",
   "execution_count": 9,
   "metadata": {},
   "outputs": [],
   "source": [
    "global data_yes_cnt, data_no_cnt, data_yes_value, data_no_value\n",
    "data_yes_cnt, data_no_cnt, data_yes_value, data_no_value = {}, {}, {}, {}\n",
    "global yes_n, no_n, n\n",
    "yes_n, no_n, n = 0, 0, 0\n",
    "global mean_yes, var_yes, mean_no, var_no\n",
    "mean_yes, var_yes, mean_no, var_no = {}, {}, {}, {}\n",
    "\n",
    "def init():\n",
    "    global data_yes_cnt, data_no_cnt, data_yes_value, data_no_value\n",
    "    global yes_n, no_n, n\n",
    "    global mean_yes, var_yes, mean_no, var_no\n",
    "    data_yes_cnt, data_no_cnt, data_yes_value, data_no_value = {}, {}, {}, {}\n",
    "    mean_yes, var_yes, mean_no, var_no = {}, {}, {}, {}\n",
    "    yes_n, no_n, n = 0, 0, 0\n",
    "    for i in range(42):\n",
    "        data_yes_cnt[i] = {}\n",
    "        data_no_cnt[i] = {}\n",
    "        data_yes_value[i] = []\n",
    "        data_no_value[i] = []    \n",
    "        if i!=1 and i!=2 and i!=3:\n",
    "            mean_yes[i] = 0\n",
    "            var_yes[i]  = 0\n",
    "            mean_no[i]  = 0\n",
    "            var_no[i]   = 0    "
   ]
  },
  {
   "cell_type": "code",
   "execution_count": 32,
   "metadata": {},
   "outputs": [
    {
     "name": "stdout",
     "output_type": "stream",
     "text": [
      "avg ok\n"
     ]
    }
   ],
   "source": [
    "def get_avg(reader, y_reader, k):\n",
    "    global data_yes_cnt, data_no_cnt, data_yes_value, data_no_value\n",
    "    global yes_n, no_n, n\n",
    "    global mean_yes, var_yes, mean_no, var_no\n",
    "    line = 0\n",
    "    for row in reader:\n",
    "        n += 1\n",
    "        label = y_reader[line]\n",
    "        line += 1\n",
    "        if label == \"normal.\": # yes\n",
    "            yes_n += 1\n",
    "            for i in range(k-1):\n",
    "                val = row[i]\n",
    "                if not data_yes_cnt[i].get(val):\n",
    "                    data_yes_cnt[i][val] = 0\n",
    "                data_yes_cnt[i][val] += 1\n",
    "                if i!=1 and i!=2 and i!=3:\n",
    "                    mean_yes[i] += float(val)\n",
    "        if label != \"normal.\": # no\n",
    "            no_n += 1\n",
    "            for i in range(k-1):\n",
    "                val = row[i]\n",
    "                if not data_no_cnt[i].get(val):\n",
    "                    data_no_cnt[i][val] = 0\n",
    "                data_no_cnt[i][val] += 1\n",
    "                if i!=1 and i!=2 and i!=3:\n",
    "                    mean_no[i] += float(val)\n",
    "\n",
    "print(\"avg ok\")"
   ]
  },
  {
   "cell_type": "code",
   "execution_count": 12,
   "metadata": {},
   "outputs": [
    {
     "name": "stdout",
     "output_type": "stream",
     "text": [
      "cov ok\n"
     ]
    }
   ],
   "source": [
    "def get_cov(reader, y_reader, k):\n",
    "    global data_yes_cnt, data_no_cnt, data_yes_value, data_no_value\n",
    "    global yes_n, no_n, n\n",
    "    global mean_yes, var_yes, mean_no, var_no\n",
    "    line = 0\n",
    "    for row in reader:\n",
    "        label = y_reader[line]\n",
    "        line += 1\n",
    "        if label == \"normal.\": # yes\n",
    "            for i in range(k-1):\n",
    "                val = row[i]\n",
    "                if i!=1 and i!=2 and i!=3:\n",
    "                    var_yes[i] += (float(val) - mean_yes[i])*(float(val) - mean_yes[i])\n",
    "        if label != \"normal.\": # no\n",
    "            for i in range(k-1):\n",
    "                val = row[i]\n",
    "                if i!=1 and i!=2 and i!=3:\n",
    "                    var_no[i] += (float(val) - mean_no[i])*(float(val) - mean_no[i])\n",
    "print(\"cov ok\")"
   ]
  },
  {
   "cell_type": "code",
   "execution_count": 21,
   "metadata": {},
   "outputs": [],
   "source": [
    "def get_avg_cov(k):\n",
    "    global data_yes_cnt, data_no_cnt, data_yes_value, data_no_value\n",
    "    global yes_n, no_n, n\n",
    "    global mean_yes, var_yes, mean_no, var_no\n",
    "    for i in range(k-1):\n",
    "        if i!=1 and i!=2 and i!=3:\n",
    "            var_yes[i]  = math.sqrt(var_yes[i] / (n - 1))\n",
    "            var_no[i]   = math.sqrt(var_no[i] / (n - 1))    "
   ]
  },
  {
   "cell_type": "code",
   "execution_count": 14,
   "metadata": {},
   "outputs": [],
   "source": [
    "def test(reader, y_reader, k):\n",
    "    global data_yes_cnt, data_no_cnt, data_yes_value, data_no_value\n",
    "    global yes_n, no_n, n\n",
    "    global mean_yes, var_yes, mean_no, var_no\n",
    "    \n",
    "    ok, no = 0, 0\n",
    "    predict = []\n",
    "    TP, FP, FN, TN = 0, 0, 0, 0   \n",
    "    line = 0\n",
    "    for row in reader:\n",
    "        label = y_reader[line]\n",
    "        line += 1\n",
    "        p_yes, p_no = yes_n/(yes_n + no_n), no_n/(yes_n + no_n)\n",
    "        flag = 0\n",
    "        for i in range(k-1):\n",
    "            if i!=1 and i!=2 and i!=3:\n",
    "                if var_yes[i]!=0:\n",
    "                    p_yes_temp = get_p(row[i], mean_yes[i], var_yes[i])\n",
    "                else:\n",
    "                    p_yes_temp = 1\n",
    "                if var_no[i]!=0:\n",
    "                    p_no_temp = get_p(row[i], mean_no[i], var_no[i])\n",
    "                else:\n",
    "                    p_no_temp = 1\n",
    "            else:\n",
    "                if not data_yes_cnt[i].get(row[i]):\n",
    "                    p_yes_temp = 1.0*1 / (yes_n + 1)\n",
    "                else: \n",
    "                    p_yes_temp = (data_yes_cnt[i][row[i]] + 1) / (yes_n + 1)\n",
    "                if not data_no_cnt[i].get(row[i]): \n",
    "                    flag = 1\n",
    "                    p_no_temp = 1 / (no_n + 1)\n",
    "                else: \n",
    "                    p_no_temp  = (data_no_cnt[i][row[i]] + 1) / (no_n + 1)\n",
    "            p_yes *= p_yes_temp\n",
    "            p_no *= p_no_temp\n",
    "        if p_yes > p_no:\n",
    "            if label == \"normal.\": \n",
    "                ok += 1\n",
    "                TP += 1\n",
    "            else: \n",
    "                no += 1\n",
    "                FP += 1\n",
    "        else:\n",
    "            if label != \"normal.\": \n",
    "                no += 1\n",
    "                FN += 1\n",
    "            else: \n",
    "                ok += 1\n",
    "                TN += 1\n",
    "    \n",
    "    print(ok, no)\n",
    "    print(TP, TN, FP, FN)\n",
    "    precision = TP / (TP + FP)\n",
    "    accuracy = (TP+TN) / (TP + TN + FP + FN)\n",
    "    # f1 = (2 * precision * recall) / (precision + recall)\n",
    "    print(\"accuracy: \", str(100 * accuracy)+\"%\")\n",
    "    print(\"precision:\", str(100 * precision)+\"%\")\n",
    "    "
   ]
  },
  {
   "cell_type": "code",
   "execution_count": null,
   "metadata": {},
   "outputs": [],
   "source": [
    "init()\n",
    "k = 1\n",
    "get_avg(X1, y_train, k)\n",
    "get_cov(X1, y_train, k)\n",
    "get_avg_cov(k)\n",
    "print(yes_n, no_n)\n",
    "# test(array_test, y_test, k)"
   ]
  },
  {
   "cell_type": "code",
   "execution_count": 24,
   "metadata": {},
   "outputs": [
    {
     "name": "stdout",
     "output_type": "stream",
     "text": [
      "194643 784006\n",
      "97278 396743\n",
      "5 97273 0 396743\n",
      "accuracy:  19.691065764410826%\n",
      "precision: 100.0%\n"
     ]
    }
   ],
   "source": [
    "init()\n",
    "k = 42\n",
    "get_avg(array_train, y_train, k)\n",
    "get_cov(array_train, y_train, k)\n",
    "get_avg_cov(k)\n",
    "print(yes_n, no_n)\n",
    "test(array_test, y_test, k)"
   ]
  },
  {
   "cell_type": "code",
   "execution_count": 58,
   "metadata": {},
   "outputs": [
    {
     "name": "stdout",
     "output_type": "stream",
     "text": [
      "978649 5\n",
      "1\n",
      "-1898.9651476709369\n",
      "-3871.079361335353\n",
      "22.808065599614473\n",
      "-486.52074993088377\n",
      "-38.69435396506157\n",
      "2\n",
      "-1824.969092395094\n",
      "-571.0817497411065\n",
      "21.779870167734803\n",
      "-490.34687318896437\n",
      "-40.269815704723044\n",
      "3\n"
     ]
    }
   ],
   "source": [
    "init()\n",
    "k = 5\n",
    "cnt = 0\n",
    "\n",
    "n,m = X5.shape\n",
    "print(n, m)\n",
    "\n",
    "for row in X5:\n",
    "    cnt += 1\n",
    "    print(cnt)\n",
    "    if cnt > 2:\n",
    "        break \n",
    "    for i in range(m):\n",
    "        temp = row[0]\n",
    "        print(temp[i])\n",
    "        # print(row[0, i])\n",
    "# get_avg(X5, y_train, k)\n",
    "# get_cov(X5, y_train, k)\n",
    "# get_avg_cov(k)\n",
    "# test(X5, y_test, k)"
   ]
  },
  {
   "cell_type": "code",
   "execution_count": null,
   "metadata": {},
   "outputs": [],
   "source": [
    "init()\n",
    "k = 10\n",
    "get_avg(X10, y_train, k)\n",
    "get_cov(X10, y_train, k)\n",
    "get_avg_cov(k)\n",
    "test(X10, y_test, k)"
   ]
  }
 ],
 "metadata": {
  "kernelspec": {
   "display_name": "Python 3.10.8 64-bit",
   "language": "python",
   "name": "python3"
  },
  "language_info": {
   "name": "python",
   "version": "3.10.8"
  },
  "orig_nbformat": 4,
  "vscode": {
   "interpreter": {
    "hash": "b0fa6594d8f4cbf19f97940f81e996739fb7646882a419484c72d19e05852a7e"
   }
  }
 },
 "nbformat": 4,
 "nbformat_minor": 2
}
