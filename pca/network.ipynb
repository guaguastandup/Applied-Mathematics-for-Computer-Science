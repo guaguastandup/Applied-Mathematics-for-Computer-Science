{
 "cells": [
  {
   "cell_type": "code",
   "execution_count": 64,
   "metadata": {},
   "outputs": [],
   "source": [
    "import numpy as np\n",
    "import pandas as pd\n",
    "import math\n",
    "import csv \n",
    "\n",
    "import torch\n",
    "import torch.nn as nn\n",
    "from torch.autograd import Variable as V\n",
    "from torch.utils.data import DataLoader,Dataset,TensorDataset\n",
    " \n",
    "import matplotlib.pyplot as plt          \n",
    "\n",
    "from sklearn.preprocessing import MinMaxScaler\n",
    "from sklearn.ensemble import IsolationForest\n",
    "\n",
    "from tqdm import tqdm"
   ]
  },
  {
   "cell_type": "markdown",
   "metadata": {},
   "source": [
    "x-data"
   ]
  },
  {
   "cell_type": "code",
   "execution_count": 6,
   "metadata": {},
   "outputs": [],
   "source": [
    "data_train = np.load('data/train.npy', allow_pickle=True)\n",
    "data_test = np.load('data/test.npy', allow_pickle=True)"
   ]
  },
  {
   "cell_type": "code",
   "execution_count": 7,
   "metadata": {},
   "outputs": [],
   "source": [
    "data_train = np.delete(data_train, -1, axis=1)\n",
    "data_test = np.delete(data_test, -1, axis=1)"
   ]
  },
  {
   "cell_type": "markdown",
   "metadata": {},
   "source": [
    "y-data"
   ]
  },
  {
   "cell_type": "code",
   "execution_count": 8,
   "metadata": {},
   "outputs": [],
   "source": [
    "y_test = np.load('data/y_test.npy', allow_pickle=True)\n",
    "y_train = np.load('data/y_train.npy', allow_pickle=True)"
   ]
  },
  {
   "cell_type": "code",
   "execution_count": 9,
   "metadata": {},
   "outputs": [],
   "source": [
    "n,m = y_test.shape\n",
    "for i in range(n):\n",
    "    if y_test[i][0] == 'normal.':\n",
    "        y_test[i][0] = int(1)\n",
    "    else:\n",
    "        y_test[i][0] = int(0)\n",
    "    \n",
    "n,m = y_train.shape\n",
    "for i in range(n):\n",
    "    if y_train[i][0] == 'normal.':\n",
    "        y_train[i][0] = int(1)\n",
    "    else:\n",
    "        y_train[i][0] = int(0)\n"
   ]
  },
  {
   "cell_type": "markdown",
   "metadata": {},
   "source": [
    "data-loader"
   ]
  },
  {
   "cell_type": "code",
   "execution_count": 16,
   "metadata": {},
   "outputs": [],
   "source": [
    "def data_loader(x, y):\n",
    "    MMScaler = MinMaxScaler()\n",
    "    x = MMScaler.fit_transform(x)\n",
    "    tensor_x = torch.from_numpy(x.astype(np.float32))\n",
    "    tensor_y = torch.from_numpy(y.astype(np.float32))\n",
    "\n",
    "    dataset = TensorDataset(tensor_x, tensor_y)\n",
    "    dataset_loader = DataLoader(dataset, batch_size=4096, shuffle=False)\n",
    "    return dataset_loader"
   ]
  },
  {
   "cell_type": "code",
   "execution_count": 63,
   "metadata": {},
   "outputs": [],
   "source": [
    "dataloader = data_loader(data_train, y_train)\n",
    "testdata_loader = data_loader(data_test, y_test)"
   ]
  },
  {
   "cell_type": "markdown",
   "metadata": {},
   "source": [
    "build network"
   ]
  },
  {
   "cell_type": "code",
   "execution_count": 120,
   "metadata": {},
   "outputs": [],
   "source": [
    "class network(nn.Module):                    \n",
    "    def __init__(self, init_op, motivate_op):                         \n",
    "        super(network,self).__init__() \n",
    "        # 激活函数\n",
    "        if motivate_op == 1:     # sigmoid\n",
    "            self.func = nn.Sigmoid()\n",
    "        elif motivate_op == 2:   # Tanh\n",
    "            self.func = nn.Tanh()\n",
    "        elif motivate_op == 3:   # LeakyReLU\n",
    "            self.func = nn.LeakyReLU()\n",
    "\n",
    "        self.encoder = nn.Sequential(         \n",
    "            nn.Linear(41, 24),                    \n",
    "            self.func,                      \n",
    "            nn.Linear(24, 16),       \n",
    "            self.func,                         \n",
    "            nn.Linear(16, 8),   \n",
    "            self.func,                             \n",
    "            nn.Linear(8, 4),\n",
    "            self.func,                          \n",
    "            nn.Linear(4, 1), \n",
    "            nn.Sigmoid()\n",
    "        )                     \n",
    "\n",
    "        # 初始化参数\n",
    "        for m in self.modules():\n",
    "            if isinstance(m, nn.Linear):\n",
    "                if init_op == 1:\n",
    "                # remain zero!\n",
    "                    print(m)\n",
    "                elif init_op == 2:\n",
    "                    nn.init.xavier_normal_(m.weight)\n",
    "                    nn.init.constant_(m.bias, 0)  \n",
    "                                               \n",
    "    def forward(self, x):                       \n",
    "        encoder = self.encoder(x)                 \n",
    "        return encoder                                                        "
   ]
  },
  {
   "cell_type": "code",
   "execution_count": 113,
   "metadata": {},
   "outputs": [],
   "source": [
    "def train(model, criterion, optimizer, dataset_loader, epoch_num = 300):\n",
    "    train_loss_list = []\n",
    "    for epoch in range(epoch_num):\n",
    "        total_loss = 0\n",
    "        for i ,(x,y) in enumerate(tqdm(dataset_loader)):\n",
    "            pred = model(V(x))\n",
    "            # print(pred, y)\n",
    "            # loss = criterion(pred, y)\n",
    "            loss = criterion(pred, y.float())\n",
    "            \n",
    "            optimizer.zero_grad()\n",
    "            loss.backward()\n",
    "            optimizer.step()\n",
    "\n",
    "            total_loss += loss\n",
    "        train_loss_list.append(total_loss)\n",
    "        # print(\"epoch: \", total_loss)\n",
    "        if epoch % 10 == 0:\n",
    "            print(epoch, \":\", total_loss.data.numpy())\n",
    "    return model, train_loss_list"
   ]
  },
  {
   "cell_type": "code",
   "execution_count": 146,
   "metadata": {},
   "outputs": [],
   "source": [
    "def test(model, criterion, dataset_loader):\n",
    "    total_loss = 0\n",
    "    for i ,(x,y) in enumerate(tqdm(dataset_loader)):\n",
    "        pred = model(V(x))\n",
    "        loss = criterion(pred, y)\n",
    "        total_loss += loss\n",
    "    return total_loss"
   ]
  },
  {
   "cell_type": "code",
   "execution_count": 83,
   "metadata": {},
   "outputs": [],
   "source": [
    "def init(init_op, motivate_op, optimizer_op):\n",
    "    model = network(init_op, motivate_op)\n",
    "\n",
    "    # 计算loss\n",
    "    criterion = nn.BCELoss()\n",
    "    \n",
    "    if optimizer_op == 1: # Adam\n",
    "        optimizer = torch.optim.Adam(model.parameters(), lr = 0.01)\n",
    "    elif optimizer_op == 2: # SGD\n",
    "        optimizer = torch.optim.SGD(model.parameters(), lr = 0.01)\n",
    "    \n",
    "    return model, criterion, optimizer"
   ]
  },
  {
   "cell_type": "code",
   "execution_count": 124,
   "metadata": {},
   "outputs": [],
   "source": [
    "def draw(data):\n",
    "    n = len(data)\n",
    "    x = []\n",
    "    y = []\n",
    "    for i in range(n):\n",
    "        y.append(torch.detach(data[i]))\n",
    "        x.append(i+1)\n",
    "        \n",
    "    plt.plot(np.array(x), np.array(y), c='yellow')   \n",
    "    plt.show()"
   ]
  },
  {
   "cell_type": "code",
   "execution_count": 105,
   "metadata": {},
   "outputs": [],
   "source": [
    "def run(epoch, init_op, motivate_op, optimizer_op):\n",
    "    model, criterion, optimizer = init(init_op, motivate_op, optimizer_op)\n",
    "    model, train_error_list = train(model, criterion, optimizer, dataloader, epoch)\n",
    "    return model, train_error_list"
   ]
  },
  {
   "cell_type": "code",
   "execution_count": null,
   "metadata": {},
   "outputs": [],
   "source": [
    "# init_op:\n",
    "# 1: remain zero\n",
    "# 2: normal\n",
    "\n",
    "# motivate_op:\n",
    "# 1: sigmoid\n",
    "# 2: tanh\n",
    "# 3: leakyRelu\n",
    "\n",
    "# optimizer_op:\n",
    "# 1: Adam\n",
    "# 2: SGD"
   ]
  },
  {
   "cell_type": "code",
   "execution_count": null,
   "metadata": {},
   "outputs": [],
   "source": [
    "# zero, tanh, SGD \n",
    "model, train_error = run(epoch=60, init_op = 1, motivate_op = 2, optimizer_op = 2)"
   ]
  },
  {
   "cell_type": "code",
   "execution_count": null,
   "metadata": {},
   "outputs": [],
   "source": [
    "# normal, sigmoid, Adam\n",
    "model1, train_error1 = run(epoch=60, init_op = 2, motivate_op = 1, optimizer_op = 1)"
   ]
  },
  {
   "cell_type": "code",
   "execution_count": null,
   "metadata": {},
   "outputs": [],
   "source": [
    "# normal, leakyRelu, SGD\n",
    "model2, train_error2 = run(epoch=60, init_op = 2, motivate_op = 3, optimizer_op = 1)"
   ]
  },
  {
   "cell_type": "code",
   "execution_count": null,
   "metadata": {},
   "outputs": [],
   "source": [
    "# zero, leakyRelu, SGD\n",
    "model3, train_error3 = run(epoch=60, init_op = 1, motivate_op = 2, optimizer_op = 2)"
   ]
  },
  {
   "cell_type": "code",
   "execution_count": null,
   "metadata": {},
   "outputs": [],
   "source": [
    "draw(train_error)\n",
    "draw(train_error1)\n",
    "draw(train_error2)\n",
    "draw(train_error3)"
   ]
  },
  {
   "cell_type": "code",
   "execution_count": 143,
   "metadata": {},
   "outputs": [],
   "source": [
    "def draw2(data_list, label_list):\n",
    "    cnt = 0\n",
    "    for data in data_list:\n",
    "        n = len(data)\n",
    "        x = []\n",
    "        y = []\n",
    "        for i in range(n):\n",
    "            y.append(torch.detach(data[i]))\n",
    "            x.append(i+1)\n",
    "            \n",
    "        plt.plot(np.array(x), np.array(y), '*-', label = label_list[cnt])\n",
    "        cnt += 1   \n",
    "    plt.legend() \n",
    "    plt.show()"
   ]
  },
  {
   "cell_type": "code",
   "execution_count": 144,
   "metadata": {},
   "outputs": [
    {
     "data": {
      "image/png": "[encoded data removed]",
      "text/plain": [
       "<Figure size 640x480 with 1 Axes>"
      ]
     },
     "metadata": {},
     "output_type": "display_data"
    }
   ],
   "source": [
    "draw2([train_error, train_error1, train_error2, train_error3], \n",
    "    [\"zero, tanh, SGD\", \"normal, sigmoid, Adam\", \"normal, leakyRelu, SGD\", \"zero, leakyRelu, SGD\"])"
   ]
  },
  {
   "cell_type": "code",
   "execution_count": 151,
   "metadata": {},
   "outputs": [
    {
     "name": "stderr",
     "output_type": "stream",
     "text": [
      "100%|██████████| 239/239 [00:06<00:00, 39.08it/s]"
     ]
    },
    {
     "name": "stdout",
     "output_type": "stream",
     "text": [
      "zero, tanh, SGD - test_error:  tensor(1.8414, grad_fn=<AddBackward0>)\n"
     ]
    },
    {
     "name": "stderr",
     "output_type": "stream",
     "text": [
      "\n"
     ]
    }
   ],
   "source": [
    "test_error = test(model, nn.BCELoss(), testdata_loader)\n",
    "print(\"zero, tanh, SGD - test_error: \", test_error)"
   ]
  },
  {
   "cell_type": "code",
   "execution_count": 152,
   "metadata": {},
   "outputs": [
    {
     "name": "stderr",
     "output_type": "stream",
     "text": [
      "100%|██████████| 239/239 [00:06<00:00, 37.20it/s]"
     ]
    },
    {
     "name": "stdout",
     "output_type": "stream",
     "text": [
      "normal, sigmoid, Adam - test_error:  tensor(1.0567, grad_fn=<AddBackward0>)\n"
     ]
    },
    {
     "name": "stderr",
     "output_type": "stream",
     "text": [
      "\n"
     ]
    }
   ],
   "source": [
    "test_error = test(model1, nn.BCELoss(), testdata_loader)\n",
    "print(\"normal, sigmoid, Adam - test_error: \", test_error)"
   ]
  },
  {
   "cell_type": "code",
   "execution_count": 153,
   "metadata": {},
   "outputs": [
    {
     "name": "stderr",
     "output_type": "stream",
     "text": [
      "100%|██████████| 239/239 [00:06<00:00, 36.98it/s]"
     ]
    },
    {
     "name": "stdout",
     "output_type": "stream",
     "text": [
      "normal, leakyRelu, SGD - test_error:  tensor(1.8335, grad_fn=<AddBackward0>)\n"
     ]
    },
    {
     "name": "stderr",
     "output_type": "stream",
     "text": [
      "\n"
     ]
    }
   ],
   "source": [
    "test_error = test(model2, nn.BCELoss(), testdata_loader)\n",
    "print(\"normal, leakyRelu, SGD - test_error: \", test_error)"
   ]
  },
  {
   "cell_type": "code",
   "execution_count": 154,
   "metadata": {},
   "outputs": [
    {
     "name": "stderr",
     "output_type": "stream",
     "text": [
      "100%|██████████| 239/239 [00:06<00:00, 37.51it/s]"
     ]
    },
    {
     "name": "stdout",
     "output_type": "stream",
     "text": [
      "zero, leakyRelu, SGD - test_error:  tensor(2.0763, grad_fn=<AddBackward0>)\n"
     ]
    },
    {
     "name": "stderr",
     "output_type": "stream",
     "text": [
      "\n"
     ]
    }
   ],
   "source": [
    "test_error = test(model3, nn.BCELoss(), testdata_loader)\n",
    "print(\"zero, leakyRelu, SGD - test_error: \", test_error)"
   ]
  }
 ],
 "metadata": {
  "kernelspec": {
   "display_name": "Python 3.10.8 64-bit",
   "language": "python",
   "name": "python3"
  },
  "language_info": {
   "codemirror_mode": {
    "name": "ipython",
    "version": 3
   },
   "file_extension": ".py",
   "mimetype": "text/x-python",
   "name": "python",
   "nbconvert_exporter": "python",
   "pygments_lexer": "ipython3",
   "version": "3.10.8"
  },
  "orig_nbformat": 4,
  "vscode": {
   "interpreter": {
    "hash": "b0fa6594d8f4cbf19f97940f81e996739fb7646882a419484c72d19e05852a7e"
   }
  }
 },
 "nbformat": 4,
 "nbformat_minor": 2
}
