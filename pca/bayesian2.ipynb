{
 "cells": [
  {
   "cell_type": "markdown",
   "metadata": {},
   "source": [
    "import"
   ]
  },
  {
   "cell_type": "code",
   "execution_count": 37,
   "metadata": {},
   "outputs": [],
   "source": [
    "import numpy as np\n",
    "from sklearn.naive_bayes import GaussianNB"
   ]
  },
  {
   "cell_type": "markdown",
   "metadata": {},
   "source": [
    "Example"
   ]
  },
  {
   "cell_type": "code",
   "execution_count": 1,
   "metadata": {},
   "outputs": [
    {
     "name": "stdout",
     "output_type": "stream",
     "text": [
      "==Predict result by predict==\n",
      "[1]\n",
      "==Predict result by predict_proba==\n",
      "[[9.99999949e-01 5.05653254e-08]]\n",
      "==Predict result by predict_log_proba==\n",
      "[[-5.05653266e-08 -1.67999998e+01]]\n"
     ]
    }
   ],
   "source": [
    "X = np.array([[-1, -1], [-2, -1], [-3, -2], [1, 1], [2, 1], [3, 2]])\n",
    "Y = np.array([1, 1, 1, 2, 2, 2])\n",
    "clf = GaussianNB()\n",
    "#拟合数据\n",
    "clf.fit(X, Y)\n",
    "print(\"==Predict result by predict==\")\n",
    "print(clf.predict([[-0.8, -1]]))\n",
    "print(\"==Predict result by predict_proba==\")\n",
    "print(clf.predict_proba([[-0.8, -1]]))\n",
    "print(\"==Predict result by predict_log_proba==\")\n",
    "print(clf.predict_log_proba([[-0.8, -1]]))\n"
   ]
  },
  {
   "cell_type": "markdown",
   "metadata": {},
   "source": [
    "get x-data"
   ]
  },
  {
   "cell_type": "code",
   "execution_count": 2,
   "metadata": {},
   "outputs": [],
   "source": [
    "x_train = np.load('data/train.npy', allow_pickle=True)\n",
    "x_test = np.load('data/test.npy', allow_pickle=True)"
   ]
  },
  {
   "cell_type": "code",
   "execution_count": 9,
   "metadata": {},
   "outputs": [],
   "source": [
    "x_train = np.delete(x_train, -1, axis=1)\n",
    "x_test = np.delete(x_test, -1, axis=1)"
   ]
  },
  {
   "cell_type": "markdown",
   "metadata": {},
   "source": [
    "get y-data"
   ]
  },
  {
   "cell_type": "code",
   "execution_count": 42,
   "metadata": {},
   "outputs": [],
   "source": [
    "y_test = np.load('data/y_test.npy', allow_pickle=True)\n",
    "y_train = np.load('data/y_train.npy', allow_pickle=True)\n"
   ]
  },
  {
   "cell_type": "code",
   "execution_count": 43,
   "metadata": {},
   "outputs": [],
   "source": [
    "n,m = y_test.shape\n",
    "for i in range(n):\n",
    "    if y_test[i][0] == 'normal.':\n",
    "        y_test[i][0] = int(1)\n",
    "    else:\n",
    "        y_test[i][0] = int(0)\n",
    "    \n",
    "n,m = y_train.shape\n",
    "for i in range(n):\n",
    "    if y_train[i][0] == 'normal.':\n",
    "        y_train[i][0] = int(1)\n",
    "    else:\n",
    "        y_train[i][0] = int(0)\n"
   ]
  },
  {
   "cell_type": "markdown",
   "metadata": {},
   "source": [
    "load data"
   ]
  },
  {
   "cell_type": "code",
   "execution_count": 18,
   "metadata": {},
   "outputs": [],
   "source": [
    "X_1 = np.load('data/X_1.npy', allow_pickle=True)\n",
    "X_2 = np.load('data/X_2.npy', allow_pickle=True)\n",
    "X_5 = np.load('data/X_5.npy', allow_pickle=True)\n",
    "X_10 = np.load('data/X_10.npy', allow_pickle=True)\n",
    "X_15 = np.load('data/X_15.npy', allow_pickle=True)\n",
    "X_20 = np.load('data/X_20.npy', allow_pickle=True)\n",
    "X_25 = np.load('data/X_25.npy', allow_pickle=True)\n",
    "X_30 = np.load('data/X_30.npy', allow_pickle=True)\n",
    "\n",
    "\n",
    "Y_1 = np.load('data/Y_1.npy', allow_pickle=True)\n",
    "Y_2 = np.load('data/Y_2.npy', allow_pickle=True)\n",
    "Y_5 = np.load('data/Y_5.npy', allow_pickle=True)\n",
    "Y_10 = np.load('data/Y_10.npy', allow_pickle=True)\n",
    "Y_15 = np.load('data/Y_15.npy', allow_pickle=True)\n",
    "Y_20 = np.load('data/Y_20.npy', allow_pickle=True)\n",
    "Y_25 = np.load('data/Y_25.npy', allow_pickle=True)\n",
    "Y_30 = np.load('data/Y_30.npy', allow_pickle=True)\n"
   ]
  },
  {
   "cell_type": "code",
   "execution_count": 51,
   "metadata": {},
   "outputs": [],
   "source": [
    "encoder_X2 = np.load('data/encoder_X2.npy', allow_pickle=True)\n",
    "encoder_Y2 = np.load('data/encoder_Y2.npy', allow_pickle=True)"
   ]
  },
  {
   "cell_type": "code",
   "execution_count": 53,
   "metadata": {},
   "outputs": [],
   "source": [
    "def f(X, Y, test_X, test_Y):\n",
    "    Y = Y.T[0].astype('int')\n",
    "    clf = GaussianNB()\n",
    "    clf.fit(X, Y)\n",
    "\n",
    "    print(\"fit finishied\")\n",
    "    n, m = test_X.shape\n",
    "    print(n,m)\n",
    "\n",
    "    ok = 0\n",
    "    no = 0\n",
    "    for i in range(n):\n",
    "        if int(clf.predict(test_X[i].reshape(1, -1))[0]) == int(test_Y[i][0]):\n",
    "            ok += 1\n",
    "        else:\n",
    "            no += 1\n",
    "            \n",
    "    accuracy = ok/(ok+no)\n",
    "    print(\"accuracy: \", str(100 * accuracy)+\"%\")"
   ]
  },
  {
   "cell_type": "code",
   "execution_count": 54,
   "metadata": {},
   "outputs": [
    {
     "name": "stdout",
     "output_type": "stream",
     "text": [
      "(978649, 1)\n",
      "(978649, 2)\n"
     ]
    }
   ],
   "source": [
    "print(y_test.shape)\n",
    "print(encoder_Y2.shape)"
   ]
  },
  {
   "cell_type": "code",
   "execution_count": 55,
   "metadata": {},
   "outputs": [
    {
     "name": "stdout",
     "output_type": "stream",
     "text": [
      "fit finishied\n",
      "978649 2\n",
      "accuracy:  73.06981358995922%\n"
     ]
    }
   ],
   "source": [
    "f(encoder_X2, y_train, encoder_Y2, y_test)"
   ]
  },
  {
   "cell_type": "code",
   "execution_count": 56,
   "metadata": {},
   "outputs": [],
   "source": [
    "encoder_X1 = np.load('data/encoder_X1.npy', allow_pickle=True)\n",
    "encoder_Y1 = np.load('data/encoder_Y1.npy', allow_pickle=True)"
   ]
  },
  {
   "cell_type": "code",
   "execution_count": 57,
   "metadata": {},
   "outputs": [
    {
     "name": "stdout",
     "output_type": "stream",
     "text": [
      "fit finishied\n",
      "978649 1\n",
      "accuracy:  96.76349743370707%\n"
     ]
    }
   ],
   "source": [
    "f(encoder_X1, y_train, encoder_Y1, y_test)"
   ]
  },
  {
   "cell_type": "code",
   "execution_count": null,
   "metadata": {},
   "outputs": [],
   "source": [
    "encoder_X5 = np.load('data/encoder_X5.npy', allow_pickle=True)\n",
    "encoder_Y5 = np.load('data/encoder_Y5.npy', allow_pickle=True)\n",
    "f(encoder_X5, y_train, encoder_Y5, y_test)"
   ]
  },
  {
   "cell_type": "code",
   "execution_count": 33,
   "metadata": {},
   "outputs": [
    {
     "name": "stdout",
     "output_type": "stream",
     "text": [
      "accuracy:  19.87995696107593%\n"
     ]
    }
   ],
   "source": [
    "f(X_1, y_train, Y_1, y_test)"
   ]
  },
  {
   "cell_type": "code",
   "execution_count": 34,
   "metadata": {},
   "outputs": [
    {
     "name": "stdout",
     "output_type": "stream",
     "text": [
      "accuracy:  19.856148629386023%\n"
     ]
    }
   ],
   "source": [
    "f(X_2, y_train, Y_2, y_test)"
   ]
  },
  {
   "cell_type": "code",
   "execution_count": 35,
   "metadata": {},
   "outputs": [
    {
     "name": "stdout",
     "output_type": "stream",
     "text": [
      "accuracy:  89.06165540454238%\n"
     ]
    }
   ],
   "source": [
    "f(X_5, y_train, Y_5, y_test)"
   ]
  },
  {
   "cell_type": "code",
   "execution_count": 36,
   "metadata": {},
   "outputs": [
    {
     "name": "stdout",
     "output_type": "stream",
     "text": [
      "accuracy:  93.86869040892087%\n"
     ]
    }
   ],
   "source": [
    "f(X_10, y_train, Y_10, y_test)"
   ]
  },
  {
   "cell_type": "code",
   "execution_count": 30,
   "metadata": {},
   "outputs": [
    {
     "name": "stdout",
     "output_type": "stream",
     "text": [
      "918668 59981\n"
     ]
    }
   ],
   "source": [
    "f(X_15, y_train, Y_15, y_test)"
   ]
  },
  {
   "cell_type": "code",
   "execution_count": 31,
   "metadata": {},
   "outputs": [
    {
     "name": "stdout",
     "output_type": "stream",
     "text": [
      "918669 59980\n"
     ]
    }
   ],
   "source": [
    "f(X_20, y_train, Y_20, y_test)"
   ]
  }
 ],
 "metadata": {
  "kernelspec": {
   "display_name": "Python 3.9.12 ('base')",
   "language": "python",
   "name": "python3"
  },
  "language_info": {
   "codemirror_mode": {
    "name": "ipython",
    "version": 3
   },
   "file_extension": ".py",
   "mimetype": "text/x-python",
   "name": "python",
   "nbconvert_exporter": "python",
   "pygments_lexer": "ipython3",
   "version": "3.9.15"
  },
  "orig_nbformat": 4,
  "vscode": {
   "interpreter": {
    "hash": "556100dcee374a23f84c2de2403ec57cc1cab8c46090603702f50dbe18a73249"
   }
  }
 },
 "nbformat": 4,
 "nbformat_minor": 2
}
