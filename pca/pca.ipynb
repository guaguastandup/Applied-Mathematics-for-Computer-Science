{
 "cells": [
  {
   "cell_type": "code",
   "execution_count": 32,
   "metadata": {},
   "outputs": [],
   "source": [
    "import numpy as np\n",
    "import pandas as pd\n",
    "import math\n",
    "import csv \n",
    "\n",
    "from sklearn.decomposition import PCA"
   ]
  },
  {
   "cell_type": "code",
   "execution_count": 46,
   "metadata": {},
   "outputs": [],
   "source": [
    "array_test = np.load('data/test.npy', allow_pickle=True)\n",
    "array_train = np.load('data/train.npy', allow_pickle=True)"
   ]
  },
  {
   "cell_type": "code",
   "execution_count": 47,
   "metadata": {},
   "outputs": [],
   "source": [
    "y_test = array_test[:,[-1]]\n",
    "y_train = array_train[:,[-1]]"
   ]
  },
  {
   "cell_type": "markdown",
   "metadata": {},
   "source": []
  },
  {
   "cell_type": "code",
   "execution_count": 48,
   "metadata": {},
   "outputs": [],
   "source": [
    "array_test = np.delete(array_test, -1, axis=1)\n",
    "array_train = np.delete(array_train, -1, axis=1)"
   ]
  },
  {
   "cell_type": "code",
   "execution_count": 81,
   "metadata": {},
   "outputs": [],
   "source": [
    "def pca(dataMat, topNfeat):\n",
    "    meanVals = np.mean(dataMat, axis=0)\n",
    "    meanRemoved = dataMat - meanVals  # 标准化（去均值）\n",
    "    covMat = np.cov(meanRemoved.astype(float), rowvar=False)\n",
    "    eigVals, eigVets = np.linalg.eig(np.mat(covMat))  # 计算矩阵的特征值和特征向量\n",
    "    eigValInd = np.argsort(eigVals)  # 将特征值从小到大排序，返回的是特征值对应的数组里的下标\n",
    "    eigValInd = eigValInd[:-(topNfeat + 1):-1]  # 保留最大的前K个特征值\n",
    "    redEigVects = eigVets[:, eigValInd]  # 对应的特征向量\n",
    "    lowDDatMat = meanRemoved * redEigVects  # 将数据转换到低维新空间\n",
    "    reconMat = (lowDDatMat * redEigVects.T) + meanVals  # 还原原始数据\n",
    "    # print(\"reconMat: \")\n",
    "    # print(reconMat[0])\n",
    "    return lowDDatMat\n"
   ]
  },
  {
   "cell_type": "code",
   "execution_count": 28,
   "metadata": {},
   "outputs": [],
   "source": [
    "X_1 = pca(array_train, 1)\n",
    "X_5 = pca(array_train, 5)\n",
    "X_10 = pca(array_train, 10)"
   ]
  },
  {
   "cell_type": "code",
   "execution_count": 13,
   "metadata": {},
   "outputs": [],
   "source": [
    "Y_1 = pca(array_test, 1)\n",
    "Y_5 = pca(array_test, 5)\n",
    "Y_10 = pca(array_test, 10)"
   ]
  },
  {
   "cell_type": "code",
   "execution_count": 14,
   "metadata": {},
   "outputs": [],
   "source": [
    "np.save('data/X_1.npy',  X_1)\n",
    "np.save('data/X_5.npy',  X_5)\n",
    "np.save('data/X_10.npy', X_10)\n",
    "np.save('data/Y_1.npy',  Y_1)\n",
    "np.save('data/Y_5.npy',  Y_5)\n",
    "np.save('data/Y_10.npy', Y_10)"
   ]
  },
  {
   "cell_type": "code",
   "execution_count": 50,
   "metadata": {},
   "outputs": [],
   "source": [
    "p = PCA(n_components=1)\n",
    "X_1 = p.fit_transform(array_train)\n",
    "Y_1 = p.transform(array_test)"
   ]
  },
  {
   "cell_type": "code",
   "execution_count": 55,
   "metadata": {},
   "outputs": [],
   "source": [
    "p = PCA(n_components=2)\n",
    "X_2 = p.fit_transform(array_train)\n",
    "Y_2 = p.transform(array_test)"
   ]
  },
  {
   "cell_type": "code",
   "execution_count": 51,
   "metadata": {},
   "outputs": [],
   "source": [
    "p = PCA(n_components=5)\n",
    "X_5 = p.fit_transform(array_train)\n",
    "Y_5 = p.transform(array_test)"
   ]
  },
  {
   "cell_type": "code",
   "execution_count": 52,
   "metadata": {},
   "outputs": [],
   "source": [
    "p = PCA(n_components=10)\n",
    "X_10 = p.fit_transform(array_train)\n",
    "Y_10 = p.transform(array_test)"
   ]
  },
  {
   "cell_type": "code",
   "execution_count": 56,
   "metadata": {},
   "outputs": [],
   "source": [
    "p = PCA(n_components=15)\n",
    "X_15 = p.fit_transform(array_train)\n",
    "Y_15 = p.transform(array_test)"
   ]
  },
  {
   "cell_type": "code",
   "execution_count": 57,
   "metadata": {},
   "outputs": [],
   "source": [
    "p = PCA(n_components=20)\n",
    "X_20 = p.fit_transform(array_train)\n",
    "Y_20 = p.transform(array_test)"
   ]
  },
  {
   "cell_type": "code",
   "execution_count": 58,
   "metadata": {},
   "outputs": [],
   "source": [
    "p = PCA(n_components=25)\n",
    "X_25 = p.fit_transform(array_train)\n",
    "Y_25 = p.transform(array_test)"
   ]
  },
  {
   "cell_type": "code",
   "execution_count": 59,
   "metadata": {},
   "outputs": [],
   "source": [
    "p = PCA(n_components=30)\n",
    "X_30 = p.fit_transform(array_train)\n",
    "Y_30 = p.transform(array_test)"
   ]
  },
  {
   "cell_type": "code",
   "execution_count": 60,
   "metadata": {},
   "outputs": [],
   "source": [
    "np.save('data/X_1.npy',  X_1)\n",
    "np.save('data/X_2.npy',  X_2)\n",
    "np.save('data/X_5.npy',  X_5)\n",
    "np.save('data/X_10.npy', X_10)\n",
    "np.save('data/X_15.npy', X_15)\n",
    "np.save('data/X_20.npy', X_20)\n",
    "np.save('data/X_25.npy', X_25)\n",
    "np.save('data/X_30.npy', X_30)\n",
    "\n",
    "np.save('data/Y_1.npy',  Y_1)\n",
    "np.save('data/Y_2.npy',  Y_2)\n",
    "np.save('data/Y_5.npy',  Y_5)\n",
    "np.save('data/Y_10.npy', Y_10)\n",
    "np.save('data/Y_15.npy', Y_15)\n",
    "np.save('data/Y_20.npy', Y_20)\n",
    "np.save('data/Y_25.npy', Y_25)\n",
    "np.save('data/Y_30.npy', Y_30)"
   ]
  },
  {
   "cell_type": "code",
   "execution_count": 78,
   "metadata": {},
   "outputs": [],
   "source": [
    "p = PCA(n_components=4)\n",
    "x = np.array([[1, 4, 1, 4, 5], [5, 2, 4, 4, 5], [3, 6, 3, 1, 2], [1, 3, 2, 1, 3]])\n",
    "# x = np.array([[-2, 1, -2, 1, 2], [1, -2, 0, 0, 1], [0, 3, 0, -2, -1], [-1, 1, 0, -1, 1]])\n",
    "y = p.fit_transform(x)"
   ]
  },
  {
   "cell_type": "code",
   "execution_count": 77,
   "metadata": {},
   "outputs": [
    {
     "name": "stdout",
     "output_type": "stream",
     "text": [
      "[[-1.17700350e+00  2.62827647e+00 -2.86051708e-01  8.57558347e-17]\n",
      " [-2.42774382e+00 -2.10753965e+00 -1.98334492e-01  8.57558347e-17]\n",
      " [ 3.21442942e+00 -6.44387750e-01 -3.56662188e-01  8.57558347e-17]\n",
      " [ 3.90317889e-01  1.23650937e-01  8.41048388e-01  8.57558347e-17]]\n"
     ]
    }
   ],
   "source": [
    "print(y)"
   ]
  },
  {
   "cell_type": "code",
   "execution_count": 79,
   "metadata": {},
   "outputs": [
    {
     "name": "stdout",
     "output_type": "stream",
     "text": [
      "[[ 2.66221603e-01  2.69647682e+00 -1.01643436e+00  1.85040385e-16]\n",
      " [ 3.70806954e+00 -1.25487793e+00  2.24725749e-01  1.85040385e-16]\n",
      " [-2.37514254e+00 -2.10051047e+00 -9.06396004e-01  1.85040385e-16]\n",
      " [-1.59914861e+00  6.58911569e-01  1.69810461e+00  1.85040385e-16]]\n"
     ]
    }
   ],
   "source": [
    "print(y)"
   ]
  },
  {
   "cell_type": "code",
   "execution_count": 84,
   "metadata": {},
   "outputs": [
    {
     "name": "stdout",
     "output_type": "stream",
     "text": [
      "[[-0.2662216  -2.69647682]\n",
      " [-3.70806954  1.25487793]\n",
      " [ 2.37514254  2.10051047]\n",
      " [ 1.59914861 -0.65891157]]\n"
     ]
    }
   ],
   "source": [
    "x = np.array([[1, 4, 1, 4, 5], [5, 2, 4, 4, 5], [3, 6, 3, 1, 2], [1, 3, 2, 1, 3]])\n",
    "y = pca(x, 2)\n",
    "print(y)"
   ]
  }
 ],
 "metadata": {
  "kernelspec": {
   "display_name": "Python 3.9.12 ('base')",
   "language": "python",
   "name": "python3"
  },
  "language_info": {
   "codemirror_mode": {
    "name": "ipython",
    "version": 3
   },
   "file_extension": ".py",
   "mimetype": "text/x-python",
   "name": "python",
   "nbconvert_exporter": "python",
   "pygments_lexer": "ipython3",
   "version": "3.9.15"
  },
  "orig_nbformat": 4,
  "vscode": {
   "interpreter": {
    "hash": "556100dcee374a23f84c2de2403ec57cc1cab8c46090603702f50dbe18a73249"
   }
  }
 },
 "nbformat": 4,
 "nbformat_minor": 2
}
