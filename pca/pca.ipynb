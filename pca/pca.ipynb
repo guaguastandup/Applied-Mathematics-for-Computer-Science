{
 "cells": [
  {
   "cell_type": "code",
   "execution_count": null,
   "metadata": {},
   "outputs": [
    {
     "ename": "",
     "evalue": "",
     "output_type": "error",
     "traceback": [
      "\u001b[1;31mFailed to connect to the remote Jupyter Server 'http://localhost:8888/'. Verify the server is running and reachable. (request to http://localhost:8888/api/kernels?1670168294643 failed, reason: connect ECONNREFUSED 127.0.0.1:8888)."
     ]
    }
   ],
   "source": [
    "import numpy as np\n",
    "import pandas as pd\n",
    "import math\n",
    "import csv \n"
   ]
  },
  {
   "cell_type": "code",
   "execution_count": 3,
   "metadata": {},
   "outputs": [],
   "source": [
    "array_test = np.load('data/test.npy', allow_pickle=True)\n",
    "array_train = np.load('data/train.npy', allow_pickle=True)"
   ]
  },
  {
   "cell_type": "code",
   "execution_count": 4,
   "metadata": {},
   "outputs": [],
   "source": [
    "y_test = array_test[:,[-1]]\n",
    "y_train = array_train[:,[-1]]"
   ]
  },
  {
   "cell_type": "code",
   "execution_count": 5,
   "metadata": {},
   "outputs": [],
   "source": [
    "array_test = np.delete(array_test, -1, axis=1)\n",
    "array_train = np.delete(array_train, -1, axis=1)"
   ]
  },
  {
   "cell_type": "code",
   "execution_count": 6,
   "metadata": {},
   "outputs": [],
   "source": [
    "def pca(dataMat, topNfeat):\n",
    "    meanVals = np.mean(dataMat, axis=0)\n",
    "    meanRemoved = dataMat - meanVals  # 标准化（去均值）\n",
    "    covMat = np.cov(meanRemoved.astype(float), rowvar=False)\n",
    "    eigVals, eigVets = np.linalg.eig(np.mat(covMat))  # 计算矩阵的特征值和特征向量\n",
    "    eigValInd = np.argsort(eigVals)  # 将特征值从小到大排序，返回的是特征值对应的数组里的下标\n",
    "    eigValInd = eigValInd[:-(topNfeat + 1):-1]  # 保留最大的前K个特征值\n",
    "    redEigVects = eigVets[:, eigValInd]  # 对应的特征向量\n",
    "    lowDDatMat = meanRemoved * redEigVects  # 将数据转换到低维新空间\n",
    "    reconMat = (lowDDatMat * redEigVects.T) + meanVals  # 还原原始数据\n",
    "    print(reconMat[0])\n",
    "    return lowDDatMat\n"
   ]
  },
  {
   "cell_type": "code",
   "execution_count": null,
   "metadata": {},
   "outputs": [],
   "source": [
    "X_1 = pca(array_train, 1)\n",
    "# print(\"X_1\", X_1)\n",
    "# X_5 = pca(X, 5)\n",
    "# print(\"X_5\", X_5)\n",
    "# X_10 = pca(X, 10)\n",
    "# print(\"X_10\", X_10)"
   ]
  }
 ],
 "metadata": {
  "kernelspec": {
   "display_name": "Python 3 (ipykernel)",
   "language": "python",
   "name": "python3"
  },
  "orig_nbformat": 4
 },
 "nbformat": 4,
 "nbformat_minor": 2
}
