{
 "cells": [
  {
   "cell_type": "code",
   "execution_count": null,
   "metadata": {},
   "outputs": [],
   "source": [
    "import numpy as np\n",
    "import pandas as pd\n",
    "import math\n",
    "import csv "
   ]
  },
  {
   "cell_type": "code",
   "execution_count": null,
   "metadata": {},
   "outputs": [],
   "source": [
    "def get_p(x, mean, var):\n",
    "    return np.exp(-(x - mean) ** 2 / (2 * var ** 2)) / (math.sqrt(2 * math.pi) * var) "
   ]
  },
  {
   "cell_type": "code",
   "execution_count": null,
   "metadata": {},
   "outputs": [],
   "source": [
    "data_yes_cnt, data_no_cnt, data_yes_value, data_no_value = {}, {}, {}, {}\n",
    "yes_n, no_n, n = 0, 0, 0\n",
    "mean_yes, var_yes, mean_no, var_no = {}, {}, {}, {}\n",
    "def init():\n",
    "    data_yes_cnt, data_no_cnt, data_yes_value, data_no_value = {}, {}, {}, {}\n",
    "    yes_n, no_n, n = 0, 0, 0\n",
    "    mean_yes, var_yes, mean_no, var_no = {}, {}, {}, {}\n",
    "    for i in range(42):\n",
    "        data_yes_cnt[i] = {}\n",
    "        data_no_cnt[i] = {}\n",
    "        data_yes_value[i] = []\n",
    "        data_no_value[i] = []    \n",
    "        if i!=1 and i!=2 and i!=3:\n",
    "            mean_yes[i] = 0\n",
    "            var_yes[i]  = 0\n",
    "            mean_no[i]  = 0\n",
    "            var_no[i]   = 0    "
   ]
  },
  {
   "cell_type": "code",
   "execution_count": null,
   "metadata": {},
   "outputs": [],
   "source": [
    "def get_avg(reader, k):\n",
    "    for row in reader:\n",
    "        n += 1\n",
    "        label = row[k-1]\n",
    "        if label == \"normal.\": # yes\n",
    "            yes_n += 1\n",
    "            for i in range(k-1):\n",
    "                val = row[i]\n",
    "                if not data_yes_cnt[i].get(val):\n",
    "                    data_yes_cnt[i][val] = 0\n",
    "                data_yes_cnt[i][val] += 1\n",
    "                if i!=1 and i!=2 and i!=3:\n",
    "                    mean_yes[i] += float(val)\n",
    "        if label != \"normal.\": # no\n",
    "            no_n += 1\n",
    "            for i in range(k-1):\n",
    "                val = row[i]\n",
    "                if not data_no_cnt[i].get(val):\n",
    "                    data_no_cnt[i][val] = 0\n",
    "                data_no_cnt[i][val] += 1\n",
    "                if i!=1 and i!=2 and i!=3:\n",
    "                    mean_no[i] += float(val)\n",
    "\n",
    "print(\"avg ok\")"
   ]
  },
  {
   "cell_type": "code",
   "execution_count": null,
   "metadata": {},
   "outputs": [],
   "source": [
    "def get_cov(reader, k):\n",
    "    for dataset_train in reader:\n",
    "        for line, row in dataset_train.iterrows(): \n",
    "            label = row[k-1]\n",
    "            if label == \"normal.\": # yes\n",
    "                for i in range(k-1):\n",
    "                    val = row[i]\n",
    "                    if i!=1 and i!=2 and i!=3:\n",
    "                        var_yes[i] += (float(val) - mean_yes[i])*(float(val) - mean_yes[i])\n",
    "            if label != \"normal.\": # no\n",
    "                for i in range(k-1):\n",
    "                    val = row[i]\n",
    "                    if i!=1 and i!=2 and i!=3:\n",
    "                        var_no[i] += (float(val) - mean_no[i])*(float(val) - mean_no[i])\n",
    "print(\"cov ok\")"
   ]
  },
  {
   "cell_type": "code",
   "execution_count": null,
   "metadata": {},
   "outputs": [],
   "source": [
    "def get_avg_cov(k):\n",
    "    for i in range(k-1):\n",
    "        if i!=1 and i!=2 and i!=3:\n",
    "            var_yes[i]  = math.sqrt(var_yes[i] / (n - 1))\n",
    "            var_no[i]   = math.sqrt(var_no[i] / (n - 1))    "
   ]
  },
  {
   "cell_type": "code",
   "execution_count": null,
   "metadata": {},
   "outputs": [],
   "source": [
    "def test(reader, k):\n",
    "    ok, no = 0, 0\n",
    "    predict = []\n",
    "    TP, FP, FN, TN = 0, 0, 0, 0   \n",
    "    for row in reader:\n",
    "        label = row[k-1]\n",
    "        p_yes, p_no = yes_n/(yes_n + no_n), no_n/(yes_n + no_n)\n",
    "        flag = 0\n",
    "        for i in range(k-1):\n",
    "            if i!=1 and i!=2 and i!=3:\n",
    "                if var_yes[i]!=0:\n",
    "                    p_yes_temp = get_p(row[i], mean_yes[i], var_yes[i])\n",
    "                else p_yes_temp = 1\n",
    "                if var_no[i]!=0:\n",
    "                    p_no_temp = get_p(row[i], mean_no[i], var_no[i])\n",
    "                else p_no_temp = 1\n",
    "            else:\n",
    "                if not data_yes_cnt[i].get(row[i]):\n",
    "                    p_yes_temp = 1.0*1 / (yes_n + 1)\n",
    "                else: \n",
    "                    p_yes_temp = (data_yes_cnt[i][row[i]] + 1) / (yes_n + 1)\n",
    "                if not data_no_cnt[i].get(row[i]): \n",
    "                    flag = 1\n",
    "                    p_no_temp = 1 / (no_n + 1)\n",
    "                else: \n",
    "                    p_no_temp  = (data_no_cnt[i][row[i]] + 1) / (no_n + 1)\n",
    "            p_yes *= p_yes_temp\n",
    "            p_no *= p_no_temp\n",
    "        if p_yes > p_no:\n",
    "            if label == \"normal.\": \n",
    "                ok += 1\n",
    "                TP += 1\n",
    "            else: \n",
    "                no += 1\n",
    "                FP += 1\n",
    "        else:\n",
    "            if label != \"normal.\": \n",
    "                no += 1\n",
    "                FN += 1\n",
    "            else: \n",
    "                ok += 1\n",
    "                TN += 1\n",
    "    \n",
    "    print(ok, no)\n",
    "    precision = TP / (TP + FP)\n",
    "    accuracy = (TP+TN) / (TP + TN + FP + FN)\n",
    "    # f1 = (2 * precision * recall) / (precision + recall)\n",
    "    print(\"accuracy: \", str(100 * accuracy)+\"%\")\n",
    "    print(\"precision:\", str(100 * precision)+\"%\")\n",
    "    "
   ]
  },
  {
   "cell_type": "code",
   "execution_count": null,
   "metadata": {},
   "outputs": [],
   "source": []
  },
  {
   "cell_type": "code",
   "execution_count": null,
   "metadata": {},
   "outputs": [],
   "source": []
  },
  {
   "cell_type": "code",
   "execution_count": null,
   "metadata": {},
   "outputs": [],
   "source": []
  },
  {
   "cell_type": "code",
   "execution_count": null,
   "metadata": {},
   "outputs": [],
   "source": []
  },
  {
   "cell_type": "code",
   "execution_count": null,
   "metadata": {},
   "outputs": [],
   "source": []
  }
 ],
 "metadata": {
  "kernelspec": {
   "display_name": "Python 3 (ipykernel)",
   "language": "python",
   "name": "python3"
  },
  "orig_nbformat": 4
 },
 "nbformat": 4,
 "nbformat_minor": 2
}
