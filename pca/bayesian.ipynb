{
 "cells": [
  {
   "cell_type": "code",
   "execution_count": 101,
   "metadata": {},
   "outputs": [],
   "source": [
    "import numpy as np\n",
    "import pandas as pd\n",
    "import math\n",
    "import csv "
   ]
  },
  {
   "cell_type": "code",
   "execution_count": 102,
   "metadata": {},
   "outputs": [],
   "source": [
    "def get_p(x, mean, var):\n",
    "    return np.exp(-(x - mean) ** 2 / (2 * var ** 2)) / (math.sqrt(2 * math.pi) * var) "
   ]
  },
  {
   "cell_type": "code",
   "execution_count": 103,
   "metadata": {},
   "outputs": [],
   "source": [
    "global data_yes_value, data_no_value\n",
    "global yes_n, no_n, n\n",
    "global mean_yes, var_yes, mean_no, var_no"
   ]
  },
  {
   "cell_type": "code",
   "execution_count": 104,
   "metadata": {},
   "outputs": [],
   "source": [
    "def init():\n",
    "    global data_yes_value, data_no_value\n",
    "    global yes_n, no_n, n\n",
    "    global mean_yes, var_yes, mean_no, var_no\n",
    "    \n",
    "    data_yes_value, data_no_value = {}, {}\n",
    "    yes_n, no_n, n = 0, 0, 0\n",
    "    mean_yes, var_yes, mean_no, var_no = {}, {}, {}, {}\n",
    "    for i in range(42):\n",
    "        data_yes_value[i], data_no_value[i] = [], []\n",
    "        mean_yes[i], mean_no[i], var_yes[i], var_no[i] = 0, 0, 0, 0"
   ]
  },
  {
   "cell_type": "code",
   "execution_count": 129,
   "metadata": {},
   "outputs": [
    {
     "name": "stdout",
     "output_type": "stream",
     "text": [
      "avg ok\n"
     ]
    }
   ],
   "source": [
    "def get_avg(reader, y_reader, k):\n",
    "    global data_yes_value, data_no_value\n",
    "    global yes_n, no_n, n\n",
    "    global mean_yes, var_yes, mean_no, var_no\n",
    "\n",
    "    line = 0\n",
    "\n",
    "    for row in reader:\n",
    "        n += 1\n",
    "        \n",
    "        label = y_reader[line, 0]\n",
    "        \n",
    "        if label == \"normal.\": # yes\n",
    "            yes_n += 1\n",
    "            for i in range(k):\n",
    "                # val = row[line, i]\n",
    "                # val = row[0, i]\n",
    "                val = row[i]\n",
    "                mean_yes[i] += float(val)\n",
    "\n",
    "        if label != \"normal.\": # no\n",
    "            no_n += 1\n",
    "            for i in range(k):\n",
    "                # val = row[line, i]\n",
    "                # val = row[0, i]\n",
    "                val = row[i]\n",
    "                mean_no[i] += float(val)\n",
    "                \n",
    "        line += 1\n",
    "    print(\"yes_n: \", yes_n)\n",
    "    print(\"no_n: \", no_n)\n",
    "\n",
    "    for i in range(k):\n",
    "        mean_yes[i] = mean_yes[i] / n;\n",
    "        mean_no[i] = mean_no[i] / n;\n",
    "\n",
    "print(\"avg ok\")"
   ]
  },
  {
   "cell_type": "code",
   "execution_count": 131,
   "metadata": {},
   "outputs": [
    {
     "name": "stdout",
     "output_type": "stream",
     "text": [
      "cov ok\n"
     ]
    }
   ],
   "source": [
    "def get_cov(reader, y_reader, k):\n",
    "    global data_yes_value, data_no_value\n",
    "    global yes_n, no_n, n\n",
    "    global mean_yes, var_yes, mean_no, var_no\n",
    "\n",
    "    line = 0\n",
    "    \n",
    "    for row in reader:\n",
    "\n",
    "        label = y_reader[line, 0]\n",
    "        \n",
    "        if label == \"normal.\": # yes\n",
    "            for i in range(k):\n",
    "                # val = row[line, i]\n",
    "                # val = row[0, i]\n",
    "                val = row[i]\n",
    "                var_yes[i] += (float(val) - mean_yes[i]) * (float(val) - mean_yes[i])\n",
    "                \n",
    "        if label != \"normal.\": # no\n",
    "            for i in range(k):\n",
    "                # val = row[line, i]\n",
    "                # val = row[0, i]\n",
    "                val = row[i]\n",
    "                var_no[i] += (float(val) - mean_no[i]) * (float(val) - mean_no[i])\n",
    "        line += 1\n",
    "\n",
    "print(\"cov ok\")"
   ]
  },
  {
   "cell_type": "code",
   "execution_count": 132,
   "metadata": {},
   "outputs": [],
   "source": [
    "def get_avg_cov(k):\n",
    "    global data_yes_value, data_no_value\n",
    "    global yes_n, no_n, n\n",
    "    global mean_yes, var_yes, mean_no, var_no\n",
    "    \n",
    "    for i in range(k):\n",
    "        var_yes[i]  = math.sqrt(var_yes[i] / (n - 1))\n",
    "        var_no[i]   = math.sqrt(var_no[i] / (n - 1))    "
   ]
  },
  {
   "cell_type": "code",
   "execution_count": 133,
   "metadata": {},
   "outputs": [],
   "source": [
    "def test(reader, y_reader, k):\n",
    "    global data_yes_value, data_no_value\n",
    "    global yes_n, no_n, n\n",
    "    global mean_yes, var_yes, mean_no, var_no\n",
    "    \n",
    "    ok, no = 0, 0\n",
    "    predict = []\n",
    "    TP, FP, FN, TN = 0, 0, 0, 0   \n",
    "    line = 0\n",
    "    \n",
    "    for row in reader:\n",
    "        label = y_reader[line, 0]\n",
    "\n",
    "        p_yes, p_no = yes_n / (yes_n + no_n), no_n / (yes_n + no_n)\n",
    "        flag = 0\n",
    "        \n",
    "        for i in range(k):\n",
    "            # val = row[line, i]\n",
    "            # val = row[0, i]\n",
    "            val = row[i]\n",
    "            # print(i, row[i])\n",
    "            # print(val)\n",
    "\n",
    "            if var_yes[i] != 0:\n",
    "                p_yes_temp = get_p(val, mean_yes[i], var_yes[i])\n",
    "            else:\n",
    "                p_yes_temp = 1\n",
    "\n",
    "            # print(p_yes_temp)\n",
    "\n",
    "            if var_no[i] != 0:\n",
    "                p_no_temp = get_p(val, mean_no[i], var_no[i])\n",
    "            else:\n",
    "                p_no_temp = 1\n",
    "\n",
    "            # print(p_no_temp)\n",
    "\n",
    "            p_yes *= p_yes_temp\n",
    "            p_no *= p_no_temp\n",
    "\n",
    "        if p_yes > p_no:\n",
    "            if label == \"normal.\": \n",
    "                ok += 1\n",
    "                TP += 1\n",
    "            else: \n",
    "                no += 1\n",
    "                FP += 1\n",
    "        else:\n",
    "            if label != \"normal.\": \n",
    "                no += 1\n",
    "                FN += 1\n",
    "            else: \n",
    "                ok += 1\n",
    "                TN += 1\n",
    "        line += 1\n",
    "    \n",
    "\n",
    "    print(\"ok\", ok, \"no\", no)\n",
    "    print(TP, TN, FP, FN)\n",
    "    precision = TP / (TP + FP)\n",
    "    accuracy = (TP+TN) / (TP + TN + FP + FN)\n",
    "    print(\"accuracy: \", str(100 * accuracy)+\"%\")\n",
    "    print(\"precision:\", str(100 * precision)+\"%\")\n",
    "    "
   ]
  },
  {
   "cell_type": "code",
   "execution_count": 140,
   "metadata": {},
   "outputs": [],
   "source": [
    "X_1 = np.load('data/X_1.npy', allow_pickle=True)\n",
    "X_2 = np.load('data/X_2.npy', allow_pickle=True)\n",
    "X_5 = np.load('data/X_5.npy', allow_pickle=True)\n",
    "X_10 = np.load('data/X_10.npy', allow_pickle=True)\n",
    "X_15 = np.load('data/X_15.npy', allow_pickle=True)\n",
    "X_20 = np.load('data/X_20.npy', allow_pickle=True)\n",
    "X_25 = np.load('data/X_25.npy', allow_pickle=True)\n",
    "X_30 = np.load('data/X_30.npy', allow_pickle=True)\n",
    "\n",
    "\n",
    "Y_1 = np.load('data/Y_1.npy', allow_pickle=True)\n",
    "Y_2 = np.load('data/Y_2.npy', allow_pickle=True)\n",
    "Y_5 = np.load('data/Y_5.npy', allow_pickle=True)\n",
    "Y_10 = np.load('data/Y_10.npy', allow_pickle=True)\n",
    "Y_15 = np.load('data/Y_15.npy', allow_pickle=True)\n",
    "Y_20 = np.load('data/Y_20.npy', allow_pickle=True)\n",
    "Y_25 = np.load('data/Y_25.npy', allow_pickle=True)\n",
    "Y_30 = np.load('data/Y_30.npy', allow_pickle=True)\n"
   ]
  },
  {
   "cell_type": "code",
   "execution_count": 135,
   "metadata": {},
   "outputs": [],
   "source": [
    "y_test = np.load('data/y_test.npy', allow_pickle=True)\n",
    "y_train = np.load('data/y_train.npy', allow_pickle=True)"
   ]
  },
  {
   "cell_type": "code",
   "execution_count": 136,
   "metadata": {},
   "outputs": [
    {
     "name": "stdout",
     "output_type": "stream",
     "text": [
      "yes_n:  778137\n",
      "no_n:  3141644\n",
      "ok 194643 no 784006\n",
      "194535 108 783993 13\n",
      "accuracy:  19.888948949010317%\n",
      "precision: 19.88037133326793%\n"
     ]
    }
   ],
   "source": [
    "init()\n",
    "k = 1\n",
    "\n",
    "get_avg(X_1, y_train, k)\n",
    "get_cov(X_1, y_train, k)\n",
    "get_avg_cov(k)\n",
    "\n",
    "test(Y_1, y_test, k)"
   ]
  },
  {
   "cell_type": "code",
   "execution_count": 139,
   "metadata": {},
   "outputs": [
    {
     "name": "stdout",
     "output_type": "stream",
     "text": [
      "yes_n:  778137\n",
      "no_n:  3141644\n",
      "ok 194643 no 784006\n",
      "194007 636 781465 2541\n",
      "accuracy:  19.888948949010317%\n",
      "precision: 19.88852575983729%\n"
     ]
    }
   ],
   "source": [
    "init()\n",
    "k = 5\n",
    "get_avg(X_5, y_train, k)\n",
    "get_cov(X_5, y_train, k)\n",
    "\n",
    "get_avg_cov(k)\n",
    "\n",
    "test(Y_5, y_test, k)"
   ]
  },
  {
   "cell_type": "code",
   "execution_count": 138,
   "metadata": {},
   "outputs": [
    {
     "name": "stdout",
     "output_type": "stream",
     "text": [
      "yes_n:  778137\n",
      "no_n:  3141644\n",
      "ok 194643 no 784006\n",
      "189777 4866 13990 770016\n",
      "accuracy:  19.888948949010317%\n",
      "precision: 93.1343151737033%\n"
     ]
    }
   ],
   "source": [
    "init()\n",
    "k = 10\n",
    "get_avg(X_10, y_train, k)\n",
    "get_cov(X_10, y_train, k)\n",
    "\n",
    "get_avg_cov(k)\n",
    "\n",
    "test(Y_10, y_test, k)"
   ]
  },
  {
   "cell_type": "code",
   "execution_count": 142,
   "metadata": {},
   "outputs": [
    {
     "name": "stdout",
     "output_type": "stream",
     "text": [
      "yes_n:  778137\n",
      "no_n:  3141644\n",
      "ok 194643 no 784006\n",
      "192101 2542 7809 776197\n",
      "accuracy:  19.888948949010317%\n",
      "precision: 96.09374218398278%\n"
     ]
    }
   ],
   "source": [
    "init()\n",
    "k = 15\n",
    "get_avg(X_15, y_train, k)\n",
    "get_cov(X_15, y_train, k)\n",
    "\n",
    "get_avg_cov(k)\n",
    "\n",
    "test(Y_15, y_test, k)"
   ]
  },
  {
   "cell_type": "code",
   "execution_count": 143,
   "metadata": {},
   "outputs": [
    {
     "name": "stdout",
     "output_type": "stream",
     "text": [
      "yes_n:  778137\n",
      "no_n:  3141644\n",
      "ok 194643 no 784006\n",
      "193912 731 783987 19\n",
      "accuracy:  19.888948949010317%\n",
      "precision: 19.829450689692905%\n"
     ]
    }
   ],
   "source": [
    "init()\n",
    "k = 2\n",
    "get_avg(X_2, y_train, k)\n",
    "get_cov(X_2, y_train, k)\n",
    "\n",
    "get_avg_cov(k)\n",
    "\n",
    "test(Y_2, y_test, k)"
   ]
  },
  {
   "cell_type": "code",
   "execution_count": 144,
   "metadata": {},
   "outputs": [
    {
     "name": "stdout",
     "output_type": "stream",
     "text": [
      "yes_n:  778137\n",
      "no_n:  3141644\n",
      "ok 194643 no 784006\n",
      "191082 3561 11374 772632\n",
      "accuracy:  19.888948949010317%\n",
      "precision: 94.38198917295611%\n"
     ]
    }
   ],
   "source": [
    "init()\n",
    "k = 20\n",
    "get_avg(X_20, y_train, k)\n",
    "get_cov(X_20, y_train, k)\n",
    "\n",
    "get_avg_cov(k)\n",
    "\n",
    "test(Y_20, y_test, k)"
   ]
  },
  {
   "cell_type": "code",
   "execution_count": 145,
   "metadata": {},
   "outputs": [
    {
     "name": "stdout",
     "output_type": "stream",
     "text": [
      "yes_n:  778137\n",
      "no_n:  3141644\n",
      "ok 194643 no 784006\n",
      "192387 2256 12416 771590\n",
      "accuracy:  19.888948949010317%\n",
      "precision: 93.93758880485149%\n"
     ]
    }
   ],
   "source": [
    "init()\n",
    "k = 25\n",
    "get_avg(X_25, y_train, k)\n",
    "get_cov(X_25, y_train, k)\n",
    "\n",
    "get_avg_cov(k)\n",
    "\n",
    "test(Y_25, y_test, k)"
   ]
  },
  {
   "cell_type": "code",
   "execution_count": 146,
   "metadata": {},
   "outputs": [
    {
     "name": "stdout",
     "output_type": "stream",
     "text": [
      "yes_n:  778137\n",
      "no_n:  3141644\n",
      "ok 194643 no 784006\n",
      "189108 5535 11145 772861\n",
      "accuracy:  19.888948949010317%\n",
      "precision: 94.43454030651226%\n"
     ]
    }
   ],
   "source": [
    "init()\n",
    "k = 30\n",
    "get_avg(X_30, y_train, k)\n",
    "get_cov(X_30, y_train, k)\n",
    "\n",
    "get_avg_cov(k)\n",
    "\n",
    "test(Y_30, y_test, k)"
   ]
  }
 ],
 "metadata": {
  "kernelspec": {
   "display_name": "Python 3.9.12 ('base')",
   "language": "python",
   "name": "python3"
  },
  "language_info": {
   "codemirror_mode": {
    "name": "ipython",
    "version": 3
   },
   "file_extension": ".py",
   "mimetype": "text/x-python",
   "name": "python",
   "nbconvert_exporter": "python",
   "pygments_lexer": "ipython3",
   "version": "3.9.15"
  },
  "orig_nbformat": 4,
  "vscode": {
   "interpreter": {
    "hash": "556100dcee374a23f84c2de2403ec57cc1cab8c46090603702f50dbe18a73249"
   }
  }
 },
 "nbformat": 4,
 "nbformat_minor": 2
}
